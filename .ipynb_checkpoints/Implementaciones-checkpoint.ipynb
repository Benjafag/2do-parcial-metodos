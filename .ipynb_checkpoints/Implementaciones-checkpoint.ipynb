{
 "cells": [
  {
   "cell_type": "markdown",
   "id": "c73e31fa",
   "metadata": {},
   "source": [
    "# Unidad III - Sistemas de Ecuaciones Lineales"
   ]
  },
  {
   "cell_type": "code",
   "execution_count": 3,
   "id": "56d4d878",
   "metadata": {},
   "outputs": [],
   "source": [
    "import numpy as np"
   ]
  },
  {
   "cell_type": "code",
   "execution_count": 355,
   "id": "6617f63c",
   "metadata": {},
   "outputs": [],
   "source": [
    "a = np.array([[5,2,3],[2,7,-4],[3,-4,9.]])\n",
    "b = np.array([8,-2,12.])\n",
    "\n",
    "c = np.array([[1,0,0],[1,2,0],[3,2,1.]])\n",
    "d = np.array([1,5,10.])"
   ]
  },
  {
   "cell_type": "code",
   "execution_count": 323,
   "id": "e14fe7dc-bfc6-4b9d-ba70-153081f6808f",
   "metadata": {},
   "outputs": [],
   "source": [
    "def sust_atras(a,b):\n",
    "    n = len(a) - 1\n",
    "    x = np.zeros_like(b)\n",
    "    x[n] = b[n]/a[n,n]\n",
    "    for i in range(n-1,-1,-1):\n",
    "        x[i] = (b[i] - (a[i,i+1:] * x[i+1:]).sum()) /a[i,i]\n",
    "    return x\n",
    "    \n",
    "def sust_adelante(a,b):\n",
    "    n = len(a)\n",
    "    x = np.zeros_like(b)\n",
    "    x[0] = b[0]/a[0,0]\n",
    "    for i in range(1,n):\n",
    "        x[i] = (b[i] - (a[i,:i]*x[:i]).sum()) / a[i,i]\n",
    "    return(x)\n"
   ]
  },
  {
   "cell_type": "code",
   "execution_count": 399,
   "id": "70dd7da0-861a-4cad-8d44-4f7533e876aa",
   "metadata": {},
   "outputs": [],
   "source": [
    "def el_gauss(a,b):\n",
    "    n = len(a)\n",
    "    for k in range(n):\n",
    "        for i in range(k+1,n):\n",
    "            m = a[i,k]/a[k,k]\n",
    "            a[i,k:] -= a[k,k:] * m\n",
    "            b[i] -= b[k]*m\n",
    "    return sust_atras(a,b)\n",
    "\n",
    "def lu(a):\n",
    "    n = len(a)\n",
    "    l = np.eye(n)\n",
    "    for k in range(n):\n",
    "        for i in range(k+1,n):\n",
    "            m = a[i,k]/a[k,k]\n",
    "            l[i,k] = m\n",
    "            a[i,k:] -= a[k,k:] * m\n",
    "    return l,a\n"
   ]
  },
  {
   "cell_type": "code",
   "execution_count": 397,
   "id": "3f4404d0-bfdb-4c5c-8d4b-dee85ad08124",
   "metadata": {},
   "outputs": [
    {
     "name": "stdout",
     "output_type": "stream",
     "text": [
      "[[ 1.          0.          0.        ]\n",
      " [ 0.4         1.          0.        ]\n",
      " [ 0.6        -0.83870968  1.        ]]\n",
      "[[ 5.          2.          3.        ]\n",
      " [ 0.          6.2        -5.2       ]\n",
      " [ 0.          0.          2.83870968]]\n",
      "[[ 5.  2.  3.]\n",
      " [ 2.  7. -4.]\n",
      " [ 3. -4.  9.]]\n"
     ]
    }
   ],
   "source": [
    "# x = el_gauss(a,b)\n",
    "a = np.array([[5,2,3],[2,7,-4],[3,-4,9.]])\n",
    "l,u = lu(a)\n",
    "print(l)\n",
    "print(u)\n",
    "print(l@u)"
   ]
  },
  {
   "cell_type": "code",
   "execution_count": 773,
   "id": "56e70fee-d732-4d2c-b7ef-f2d104eb8afa",
   "metadata": {},
   "outputs": [],
   "source": [
    "def lu_ppe(a):\n",
    "    n = len(a)\n",
    "    l = np.eye(n)\n",
    "    p = np.arange(n)\n",
    "    s = np.abs(a).max(axis=1)\n",
    "    for k in range(n):\n",
    "        pivot = np.abs(a[k:,k]/s[k:]).argmax() + k # Eleccion del elem con mayor valor abs\n",
    "        # Hay cambio de elemento pivot\n",
    "        if (pivot != k):\n",
    "            p[k], p[pivot] = p[pivot], p[k] # Se cambia los indices del vector de permutaciones\n",
    "            a[[pivot,k],:] = a[[k,pivot],:] # Se intercambian la fila k y del nuevo pivot\n",
    "            l[[pivot,k],:k] = l[[k,pivot],:k] # Lo mismo en l\n",
    "        \n",
    "        # Eliminacion (igual que sin pivoteo)\n",
    "        for i in range(k+1,n):\n",
    "            m = a[i,k]/a[k,k]\n",
    "            l[i,k] = m\n",
    "            a[i,k:] -= a[k,k:] * m\n",
    "            \n",
    "    p = np.eye(n)[p] # Creo la matriz de permutacion a partir del vector p\n",
    "    return p,l,a"
   ]
  },
  {
   "cell_type": "code",
   "execution_count": 775,
   "id": "450e1152-559d-4f42-8e5c-5e08531e6e81",
   "metadata": {},
   "outputs": [
    {
     "name": "stdout",
     "output_type": "stream",
     "text": [
      "[[ 2. -6. -3.]\n",
      " [-1.  3. -2.]\n",
      " [ 3.  1. -3.]]\n",
      "[[0. 0. 1.]\n",
      " [1. 0. 0.]\n",
      " [0. 1. 0.]]\n",
      "[[ 3.  1. -3.]\n",
      " [ 2. -6. -3.]\n",
      " [-1.  3. -2.]]\n",
      "[[ 2. -6. -3.]\n",
      " [-1.  3. -2.]\n",
      " [ 3.  1. -3.]]\n",
      "[[ 3.  1. -3.]\n",
      " [ 2. -6. -3.]\n",
      " [-1.  3. -2.]]\n"
     ]
    }
   ],
   "source": [
    "a = np.array([[2,-6,-3],[-1,3,-2],[3,1,-3.]])\n",
    "print(a)\n",
    "p,l,u = lu_ppe(a)\n",
    "print(p)\n",
    "# print(l)\n",
    "# print(u)\n",
    "print(l@u)\n",
    "acopia = np.array([[2,-6,-3],[-1,3,-2],[3,1,-3.]])\n",
    "print(p.T@l@u)\n",
    "\n",
    "print(p@acopia)"
   ]
  },
  {
   "cell_type": "code",
   "execution_count": 777,
   "id": "889f8eb6-3a3b-4e39-b502-c2830a955535",
   "metadata": {},
   "outputs": [
    {
     "name": "stdout",
     "output_type": "stream",
     "text": [
      "[ 0.  -1.   0.5]\n",
      "[-0.2         0.17142857 -0.14285714]\n",
      "[-1.00000000e+00  1.00000000e+00 -5.55111512e-17]\n"
     ]
    }
   ],
   "source": [
    "b = np.array([-1,1,0])\n",
    "y = sust_adelante(l,p@b)\n",
    "print(y)\n",
    "x = sust_atras(u,y)\n",
    "print(x)\n",
    "print(acopia@x)"
   ]
  },
  {
   "cell_type": "markdown",
   "id": "58dbc989-7b24-4dac-a0fc-299a2157f1d3",
   "metadata": {},
   "source": [
    "# Unidad IV - Interpolacion"
   ]
  },
  {
   "cell_type": "markdown",
   "id": "f1d3b921-7f5c-40e5-aa5a-5d6ecfb8715f",
   "metadata": {},
   "source": [
    "# Unidad V - Integracion Numérica"
   ]
  }
 ],
 "metadata": {
  "kernelspec": {
   "display_name": "Python [conda env:base] *",
   "language": "python",
   "name": "conda-base-py"
  },
  "language_info": {
   "codemirror_mode": {
    "name": "ipython",
    "version": 3
   },
   "file_extension": ".py",
   "mimetype": "text/x-python",
   "name": "python",
   "nbconvert_exporter": "python",
   "pygments_lexer": "ipython3",
   "version": "3.12.7"
  }
 },
 "nbformat": 4,
 "nbformat_minor": 5
}
