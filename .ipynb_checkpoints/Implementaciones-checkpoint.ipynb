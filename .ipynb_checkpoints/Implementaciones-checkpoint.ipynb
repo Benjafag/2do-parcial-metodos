{
 "cells": [
  {
   "cell_type": "markdown",
   "id": "c73e31fa",
   "metadata": {},
   "source": [
    "# Unidad III - Sistemas de Ecuaciones Lineales"
   ]
  },
  {
   "cell_type": "markdown",
   "id": "ad228095-3192-40d7-8f59-2dcfea2a831f",
   "metadata": {
    "jp-MarkdownHeadingCollapsed": true
   },
   "source": [
    "## Métodos directos\n",
    "* Sustitucion hacia adelante/atras\n",
    "* Eliminacion de Gauss\n",
    "* Descomposicion LU con/sin pivoteo parcial escalado\n",
    "* Cholesky\n",
    "* Thomas"
   ]
  },
  {
   "cell_type": "code",
   "execution_count": 3,
   "id": "56d4d878",
   "metadata": {},
   "outputs": [],
   "source": [
    "import numpy as np"
   ]
  },
  {
   "cell_type": "code",
   "execution_count": 97,
   "id": "6617f63c",
   "metadata": {},
   "outputs": [],
   "source": [
    "a = np.array([[5,2,3],[2,7,-4],[3,-4,9.]])\n",
    "b = np.array([8,-2,12.])\n",
    "\n",
    "c = np.array([[1,0,0],[1,2,0],[3,2,1.]])\n",
    "d = np.array([1,5,10.])"
   ]
  },
  {
   "cell_type": "code",
   "execution_count": 99,
   "id": "e14fe7dc-bfc6-4b9d-ba70-153081f6808f",
   "metadata": {},
   "outputs": [],
   "source": [
    "def sust_atras(a,b):\n",
    "    n = len(a) - 1\n",
    "    x = np.zeros_like(b)\n",
    "    x[n] = b[n]/a[n,n]\n",
    "    for i in range(n-1,-1,-1):\n",
    "        x[i] = (b[i] - (a[i,i+1:] * x[i+1:]).sum()) /a[i,i]\n",
    "    return x\n",
    "    \n",
    "def sust_adelante(a,b):\n",
    "    n = len(a)\n",
    "    x = np.zeros_like(b)\n",
    "    x[0] = b[0]/a[0,0]\n",
    "    for i in range(1,n):\n",
    "        x[i] = (b[i] - (a[i,:i]*x[:i]).sum()) / a[i,i]\n",
    "    return(x)\n"
   ]
  },
  {
   "cell_type": "code",
   "execution_count": 111,
   "id": "70dd7da0-861a-4cad-8d44-4f7533e876aa",
   "metadata": {},
   "outputs": [],
   "source": [
    "def elim_gauss(a,b):\n",
    "    n = len(a)\n",
    "\n",
    "    # Fase de eliminacion\n",
    "    for k in range(n):\n",
    "        for i in range(k+1,n):\n",
    "            m = a[i,k]/a[k,k]          # Calculo del multiplicador\n",
    "            a[i,k:] -= a[k,k:] * m     # Operacion elemental de fila\n",
    "            b[i] -= b[k]*m             # Se aplica la misma operacion al termino independiente\n",
    "\n",
    "    # Fase de sustitucion\n",
    "    return sust_atras(a,b)\n"
   ]
  },
  {
   "cell_type": "code",
   "execution_count": 123,
   "id": "1f90103c-e65d-466d-9c85-42246ad40fe8",
   "metadata": {},
   "outputs": [],
   "source": [
    "def lu(a):\n",
    "    n = len(a)\n",
    "    l = np.eye(n)\n",
    "    for k in range(n):\n",
    "        for i in range(k+1,n):\n",
    "            m = a[i,k]/a[k,k]         # Calculo del multiplicador\n",
    "            l[i,k] = m                # Almaceno el m en la matriz l\n",
    "            a[i,k:] -= a[k,k:] * m    # Operacion elemental de fila\n",
    "    return l,a\n",
    "    "
   ]
  },
  {
   "cell_type": "code",
   "execution_count": 58,
   "id": "56e70fee-d732-4d2c-b7ef-f2d104eb8afa",
   "metadata": {},
   "outputs": [],
   "source": [
    "def lu_ppe(a):\n",
    "    n = len(a)\n",
    "    l = np.eye(n)\n",
    "    p = np.arange(n)\n",
    "    s = np.abs(a).max(axis=1)\n",
    "    for k in range(n):\n",
    "        pivot = np.abs(a[k:,k]/s[k:]).argmax() + k     # Eleccion del elem con mayor valor abs\n",
    "        \n",
    "        # Hay cambio de elemento pivot\n",
    "        if (pivot != k):\n",
    "            p[k], p[pivot] = p[pivot], p[k]            # Se cambia los indices del vector de permutaciones\n",
    "            a[[pivot,k],:] = a[[k,pivot],:]            # Se intercambian la fila k y del nuevo pivot\n",
    "            l[[pivot,k],: min(k,pivot)] = l[[k,pivot],: min(k,pivot)]          # Lo mismo en l pero no todas las columnas\n",
    "        \n",
    "        # Eliminacion (exactamente igual que sin pivoteo)\n",
    "        for i in range(k+1,n):\n",
    "            m = a[i,k]/a[k,k]\n",
    "            l[i,k] = m\n",
    "            a[i,k:] -= a[k,k:] * m\n",
    "            \n",
    "    p = np.eye(n)[p]                                   # Creo la matriz de permutacion a partir del vector p\n",
    "    return p,l,a\n"
   ]
  },
  {
   "cell_type": "code",
   "execution_count": 131,
   "id": "0300324f-2e90-4077-b34d-ab57fde9b182",
   "metadata": {
    "scrolled": true
   },
   "outputs": [],
   "source": [
    "def cholesky(a):\n",
    "    n = len(a)\n",
    "    l = np.zeros_like(a)\n",
    "    for i in range(n):\n",
    "        l[i,i] = np.sqrt(a[i,i] - (l[i, :i]**2).sum())               # Elementos de la diagonal\n",
    "        for j in range(i+1,n):\n",
    "            l[j,i] = (a[j,i] - (l[j, :i]*l[i, :i]).sum() ) / l[i,i]  # Elementos por debajo de la diagonal\n",
    "    return l"
   ]
  },
  {
   "cell_type": "code",
   "execution_count": 744,
   "id": "745c5fb8-f385-4275-909c-b020d6ee1f42",
   "metadata": {},
   "outputs": [],
   "source": [
    "def thomas(a,b, copiar_matriz = True):\n",
    "    n = len(a)\n",
    "    x = np.zeros_like(b)\n",
    "    if copiar_matriz: a = a.copy()\n",
    "    \n",
    "    # Descomposicion\n",
    "    for i in range(1,n):\n",
    "        a[i,i-1] /= a[i-1,i-1]        # e\n",
    "        a[i,i] -= a[i,i-1]*a[i-1,i]   # f\n",
    "        \n",
    "    # Sustitucion hacia adelante\n",
    "    for i in range(1,n):\n",
    "        b[i] -= b[i-1] * a[i,i-1]\n",
    "\n",
    "    #Sustitucion hacia atras\n",
    "    x[-1] = b[-1]/a[-1,-1]\n",
    "    for i in range(n-2,-1,-1):\n",
    "        x[i] = (b[i]-a[i,i+1]*x[i+1])/ a[i,i]\n",
    "        \n",
    "    return x\n",
    "    "
   ]
  },
  {
   "cell_type": "markdown",
   "id": "91940ac6-493d-4d49-8b21-4004d326b25b",
   "metadata": {
    "jp-MarkdownHeadingCollapsed": true
   },
   "source": [
    "## Métodos iterativos\n",
    "* Gauss-Jacobi\n",
    "* Gauss-Seidel\n",
    "* SOR"
   ]
  },
  {
   "cell_type": "code",
   "execution_count": 748,
   "id": "8c50c5d1-004b-4187-88d5-6d9b3430f31a",
   "metadata": {},
   "outputs": [],
   "source": [
    "def gauss_jacobi(a,b,xant,maxIter,eps):\n",
    "    it = 0\n",
    "    n = len(a)\n",
    "    error = 2*eps\n",
    "    x = np.zeros_like(xant)\n",
    "    while (it < maxIter and error > eps):\n",
    "        for i in range(n):\n",
    "            suma = 0\n",
    "            for j in range(n):\n",
    "                if i != j: suma += a[i,j] * xant[j]\n",
    "            x[i] = (b[i] - suma) / a[i,i]\n",
    "        error = np.abs(x-xant).max()\n",
    "        it += 1\n",
    "        xant = np.copy(x)\n",
    "    print (it, error)\n",
    "    return x\n"
   ]
  },
  {
   "cell_type": "code",
   "execution_count": 750,
   "id": "a579eec0-930f-4da5-b7fd-957e99b02c5e",
   "metadata": {},
   "outputs": [],
   "source": [
    "def gauss_seidel(a,b,maxIter,eps, x = np.zeros_like(b)):\n",
    "    it = 0\n",
    "    n = len(a)\n",
    "    error = 2*eps\n",
    "    xant = np.copy(x)\n",
    "    while (it < maxIter and error > eps):\n",
    "        for i in range(n):\n",
    "            suma = 0\n",
    "            for j in range(n):\n",
    "                if i != j: suma += a[i,j] * x[j]\n",
    "            x[i] = (b[i] - suma) / a[i,i]\n",
    "        error = np.abs(x-xant).max()\n",
    "        xant = np.copy(x)\n",
    "        it += 1\n",
    "    print(it, error)\n",
    "    return x\n"
   ]
  },
  {
   "cell_type": "code",
   "execution_count": 754,
   "id": "0b29d56a-4c21-40d1-ae28-7307780cf94b",
   "metadata": {},
   "outputs": [],
   "source": [
    "def SOR(a,b,maxIter,eps, w, x = np.zeros_like(b)):\n",
    "    it = 0\n",
    "    n = len(a)\n",
    "    error = 2*eps\n",
    "    xant = np.copy(x)\n",
    "    while (it < maxIter and error > eps):\n",
    "        for i in range(n):\n",
    "            suma = 0\n",
    "            for j in range(n):\n",
    "                if i != j: suma += a[i,j] * x[j]\n",
    "            x[i] = (1-w) * xant[i] + w * (b[i] - suma) / a[i,i]\n",
    "        error = np.abs(x-xant).max()\n",
    "        xant = np.copy(x)\n",
    "        it += 1\n",
    "    print(it, error)\n",
    "    return x,it\n"
   ]
  },
  {
   "cell_type": "markdown",
   "id": "8bfee42d-2e02-4974-b51a-4766dc8c354a",
   "metadata": {
    "jp-MarkdownHeadingCollapsed": true
   },
   "source": [
    "### Pruebas"
   ]
  },
  {
   "cell_type": "code",
   "execution_count": 47,
   "id": "dc0ff865-b3c5-4668-a078-a41c68fedff8",
   "metadata": {},
   "outputs": [
    {
     "name": "stdout",
     "output_type": "stream",
     "text": [
      "[[0. 1. 0.]\n",
      " [0. 0. 1.]\n",
      " [1. 0. 0.]]\n",
      "[[ 1.          0.          0.        ]\n",
      " [-0.25        1.          0.        ]\n",
      " [-0.          0.85714286  1.        ]]\n",
      "[[-4.   -2.    1.  ]\n",
      " [ 0.    3.5  -1.75]\n",
      " [ 0.    0.    3.5 ]]\n",
      "[[ 0.  3.  2.]\n",
      " [-4. -2.  1.]\n",
      " [ 1.  4. -2.]]\n"
     ]
    }
   ],
   "source": [
    "a = np.array([[0,3,2],[-4,-2,1],[1,4,-2.]])\n",
    "p,l,u = lu_ppe(a)\n",
    "print(p)\n",
    "print(l)\n",
    "print(u)\n",
    "print(p.T@l@u)"
   ]
  },
  {
   "cell_type": "code",
   "execution_count": 413,
   "id": "dd5ae3fb-5691-4730-be5c-260f030f630a",
   "metadata": {},
   "outputs": [
    {
     "name": "stdout",
     "output_type": "stream",
     "text": [
      "[[ -4.  -2.   5.  -2.   5.  -5.  -2.   1.  -5.   3.]\n",
      " [  1.  -8.  -4.  -1.   3.  -5.  -4.   2.   2.   2.]\n",
      " [ -4.   0.  24.   1.   4.   5.   1.   3.   5.  -3.]\n",
      " [ -2.  -2.  -3. -10.   2.  -4.   4.   0.  -1.   1.]\n",
      " [ -3.  -3.  -2.   5. -10.  -5.  -4.   0.   3.   4.]\n",
      " [  3.   3.   0.  -5.  -3. -24.  -3.  -5.  -4.   2.]\n",
      " [ -2.   1.  -1.   2.  -1.  -2. -16.  -3.  -5.   3.]\n",
      " [ -5.   5.   2.  -5.  -5.  -3.   4. -18.  -1.  -1.]\n",
      " [  2.  -3.  -3.   1.   5.  -1.  -4.   1.  -4.   0.]\n",
      " [  2.   2.  -4.  -2.   0.  -1.  -4.  -5.  -4. -32.]]\n",
      "[ 2.  3.  1.  0.  5.  5. -4.  1. -2. -2.]\n",
      "[1. 1. 1. 1. 1. 1. 1. 1. 1. 1.]\n",
      "738 9.854328464342643e-11\n",
      "[-0.94945574  0.22521691 -0.27630116  0.612442    0.49802734 -0.67039038\n",
      "  0.25915077  0.06421704  0.76373108 -0.10344935]\n",
      "[ 2.00000000e+00  3.00000000e+00  1.00000000e+00 -3.19447579e-10\n",
      "  5.00000000e+00  5.00000000e+00 -4.00000000e+00  1.00000000e+00\n",
      " -2.00000000e+00 -2.00000000e+00]\n"
     ]
    }
   ],
   "source": [
    "a = np.loadtxt(\"./Sistema10x10/A.txt\", delimiter=',')\n",
    "b = np.loadtxt(\"./Sistema10x10/b.txt\", delimiter=',')\n",
    "x0 = np.loadtxt(\"./Sistema10x10/X.txt\", delimiter=',')\n",
    "print(a)\n",
    "print(b)\n",
    "print(x0)\n",
    "\n",
    "x = gauss_jacobi(a,b,x0,1550,10**-10)\n",
    "print(x)\n",
    "print(a@x)"
   ]
  },
  {
   "cell_type": "code",
   "execution_count": 389,
   "id": "755cf29a-4401-4346-8b42-9b45d9d1ba20",
   "metadata": {},
   "outputs": [
    {
     "name": "stdout",
     "output_type": "stream",
     "text": [
      "[[ -4.  -2.   5.  -2.   5.  -5.  -2.   1.  -5.   3.]\n",
      " [  1.  -8.  -4.  -1.   3.  -5.  -4.   2.   2.   2.]\n",
      " [ -4.   0.  24.   1.   4.   5.   1.   3.   5.  -3.]\n",
      " [ -2.  -2.  -3. -10.   2.  -4.   4.   0.  -1.   1.]\n",
      " [ -3.  -3.  -2.   5. -10.  -5.  -4.   0.   3.   4.]\n",
      " [  3.   3.   0.  -5.  -3. -24.  -3.  -5.  -4.   2.]\n",
      " [ -2.   1.  -1.   2.  -1.  -2. -16.  -3.  -5.   3.]\n",
      " [ -5.   5.   2.  -5.  -5.  -3.   4. -18.  -1.  -1.]\n",
      " [  2.  -3.  -3.   1.   5.  -1.  -4.   1.  -4.   0.]\n",
      " [  2.   2.  -4.  -2.   0.  -1.  -4.  -5.  -4. -32.]]\n",
      "[ 2.  3.  1.  0.  5.  5. -4.  1. -2. -2.]\n",
      "[1. 1. 1. 1. 1. 1. 1. 1. 1. 1.]\n",
      "50 8.778799909237023e-11\n",
      "[-0.94945574  0.22521691 -0.27630116  0.612442    0.49802734 -0.67039038\n",
      "  0.25915077  0.06421704  0.76373108 -0.10344935]\n",
      "[ 2.00000000e+00  3.00000000e+00  1.00000000e+00  1.35318867e-10\n",
      "  5.00000000e+00  5.00000000e+00 -4.00000000e+00  1.00000000e+00\n",
      " -2.00000000e+00 -2.00000000e+00]\n"
     ]
    }
   ],
   "source": [
    "a = np.loadtxt(\"./Sistema10x10/A.txt\", delimiter=',')\n",
    "b = np.loadtxt(\"./Sistema10x10/b.txt\", delimiter=',')\n",
    "x0 = np.loadtxt(\"./Sistema10x10/X.txt\", delimiter=',')\n",
    "print(a)\n",
    "print(b)\n",
    "print(x0)\n",
    "\n",
    "x = gauss_seidel(a,b,250,10**-10,x0)\n",
    "print(x)\n",
    "print(a@x)"
   ]
  },
  {
   "cell_type": "code",
   "execution_count": 495,
   "id": "0311716e-af8d-4ebe-9644-50d80634daeb",
   "metadata": {},
   "outputs": [
    {
     "name": "stdout",
     "output_type": "stream",
     "text": [
      "Mejor resultado: w = 1.25123024604921 - 11 iteraciones - resultado = [-3.00001827 12.00001185  9.00000356] \n"
     ]
    }
   ],
   "source": [
    "a = np.array([[4,3,0],[3,4,-1],[0,-1,4.]])\n",
    "b = np.array([24,30,24.])\n",
    "mejor_resultado, iteraciones = np.zeros_like(b), 100000\n",
    "factor = np.NaN\n",
    "for w in np.linspace(1.1,2,5000):\n",
    "    x,it = SOR(a,b,150,10**-5,w, np.zeros_like(b))\n",
    "    if it < iteraciones:        \n",
    "        mejor_resultado = x\n",
    "        iteraciones = it\n",
    "        factor = w\n",
    "\n",
    "print(f\"Mejor resultado: w = {factor} - {iteraciones} iteraciones - resultado = {mejor_resultado} \")"
   ]
  },
  {
   "cell_type": "markdown",
   "id": "7dd0f718-e1f4-4223-8378-e3f73ba8ff6e",
   "metadata": {
    "jp-MarkdownHeadingCollapsed": true
   },
   "source": [
    "# Unidad IV - Interpolacion\n",
    "* Forma de Lagrange\n",
    "* Forma de Newton\n",
    "* Cubic-Splines"
   ]
  },
  {
   "cell_type": "code",
   "execution_count": 39,
   "id": "df2339ae-e97b-4381-8a42-fbb87f56f08a",
   "metadata": {},
   "outputs": [],
   "source": [
    "from numpy.polynomial.polynomial import Polynomial as Pol\n",
    "import numpy as np\n",
    "import matplotlib.pyplot as plt"
   ]
  },
  {
   "cell_type": "code",
   "execution_count": 41,
   "id": "8fd56eec-14e7-4bd1-b64f-c2a3abef4072",
   "metadata": {},
   "outputs": [],
   "source": [
    "def polinomio_lagrange(x,y):\n",
    "    p = Pol(0)\n",
    "    n = len(x)\n",
    "\n",
    "    for i in range(n):\n",
    "        termino = Pol(y[i])\n",
    "        prod = Pol(1)\n",
    "        for j in range(n):\n",
    "            if i != j: \n",
    "                prod *= Pol([-x[j],1]) / (x[i]-x[j])\n",
    "        termino *= prod\n",
    "        p += termino\n",
    "        \n",
    "    return p\n",
    "    "
   ]
  },
  {
   "cell_type": "code",
   "execution_count": 43,
   "id": "a082bb04-3e43-4d8b-a41c-a6eb73451bcf",
   "metadata": {},
   "outputs": [],
   "source": [
    "def dif_divididas(x,y):\n",
    "    d = np.copy(y)\n",
    "    n = len(y)\n",
    "    for i in range(n):\n",
    "        for j in range(n-1,i,-1):\n",
    "            d[j] = (d[j]-d[j-1])/(x[j]-x[j-1-i])\n",
    "    return d\n",
    "\n",
    "def polinomio_newton(a,x):\n",
    "    p = Pol(a[0])\n",
    "    n = len(a)\n",
    "    for i in range(1,n):\n",
    "        prod = Pol(a[i])\n",
    "        for j in range(i):\n",
    "            prod*= Pol([-x[j],1])\n",
    "        p += prod\n",
    "    return p\n"
   ]
  },
  {
   "cell_type": "code",
   "execution_count": 45,
   "id": "0a2cb50c-d419-48ba-a13a-7707e988d971",
   "metadata": {},
   "outputs": [
    {
     "data": {
      "text/plain": [
       "(-6.0, 4.0)"
      ]
     },
     "execution_count": 45,
     "metadata": {},
     "output_type": "execute_result"
    },
    {
     "data": {
      "image/png": "[encoded data removed]",
      "text/plain": [
       "<Figure size 640x480 with 1 Axes>"
      ]
     },
     "metadata": {},
     "output_type": "display_data"
    }
   ],
   "source": [
    "from scipy.interpolate import CubicSpline\n",
    "xs = np.array([.9,1.3,1.9,2.1,2.6,3.0,3.9,4.4,4.7,5.0,6.0,7,8,9.2,10.5,11.3,11.6,12,12.6,13,13.3])\n",
    "ys = np.array([1.3,1.5,1.85,2.1,2.6,2.7,2.4,2.15,2.05,2.1,2.25,2.3,2.25,1.95,1.4,.9,.7,.6,.5,.4,.25])\n",
    "cs = CubicSpline(xs,ys, bc_type='natural', extrapolate=False)\n",
    "x_vals = np.linspace(-1,15,1000)\n",
    "plt.plot(x_vals,cs(x_vals))\n",
    "plt.grid(True)\n",
    "plt.ylim(-6,4)\n",
    "CubicSpline)"
   ]
  },
  {
   "cell_type": "markdown",
   "id": "e0f04f6e-44cc-4a7a-b55a-fa229ea16610",
   "metadata": {},
   "source": [
    "`CubicSpline(x, y, axis=0, bc_type='not-a-knot', extrapolate=None)` es una funcion que nos devuelve una clase, los parámetros que recibe son:\n",
    "\n",
    "| Parámetro     | Tipo                                    | Descripción                                                                          |\n",
    "| ------------- | --------------------------------------- | ------------------------------------------------------------------------------------ |\n",
    "| `x`           | array\\_like, shape $(n,)$               | Valores de $x$, deben estar **ordenados crecientemente** y ser únicos.               |\n",
    "| `y`           | array\\_like, shape $(n,) $ o $(..., n)$ | Valores de $y$, puede ser multidimensional. Última dimensión debe coincidir con `x`. |\n",
    "| `axis`        | int, opcional (default: 0)              | Eje sobre el que se interpola si `y` es multidimensional.                            |\n",
    "| `bc_type`     | str o tuple, opcional                   | Condición de frontera. Ver detalles abajo.                                           |\n",
    "| `extrapolate` | bool o `'periodic'`, opcional           | Si se permite extrapolar fuera de los valores de `x`. `True` por defecto.            |\n",
    "\n",
    "\n",
    "| Valor                    | Significado                                                        |\n",
    "| ------------------------ | ------------------------------------------------------------------ |\n",
    "| `'not-a-knot'` (default) | Segunda derivada continua en los puntos intermedios (por defecto). |\n",
    "| `'natural'`              | Segunda derivada = 0 en los extremos.                              |\n",
    "| `'clamped'`              | Primera derivada especificada en los extremos.                     |\n",
    "| `((1, d0), (1, dN))`     | Derivada de orden 1 con valores $d_0$, $d_N$ en los extremos.      |\n",
    "| `((2, d0), (2, dN))`     | Segunda derivada de orden 2 especificada.                          |\n",
    "| `'periodic'`             | Asume que la función es periódica.                                 |\n",
    "\n",
    "Nos devuelve un objeto tipo CubicSpline, con propiedades como c (matriz de coeficientes de las funciones), x (los puntos originales que recibe para interpolar) y extrapolate (para definir si mediante la funcion se puede extrapolar valores) y metodos como: \n",
    "| Método                      | Descripción                                                                   |\n",
    "| --------------------------- | ----------------------------------------------------------------------------- |\n",
    "| `__call__(x)`               | Evalúa la spline en el punto o array `x`. También se invoca como `cs(x)`.      |\n",
    "| `derivative(n=1)`           | Devuelve la derivada n-ésima como un nuevo objeto spline.                     |\n",
    "| `antiderivative(n=1)`       | Devuelve la integral indefinida n-ésima como un nuevo spline.                 |\n",
    "| `integrate(a, b)`           | Calcula la integral definida del spline entre los puntos `a` y `b`.           |\n",
    "| `roots()`                   | Devuelve los ceros (raíces) del spline. Solo funciona en 1D.                  |\n",
    "| `extend(...)`               | Extiende el spline agregando nuevos nodos/puntos.                             |\n",
    "| `solve(y)`                  | Resuelve la ecuación $S(x) = y$, devolviendo los valores de `x`.              |\n",
    "| `construct_fast(...)`       | Método interno para construir una spline rápidamente con datos ya procesados. |\n",
    "| `from_bernstein_basis(...)` | Crea una spline cúbica desde una base de Bernstein.                           |\n",
    "| `from_spline(...)`          | Convierte otra spline (`BSpline`, por ejemplo) a una `CubicSpline`.           |\n"
   ]
  },
  {
   "cell_type": "markdown",
   "id": "5e89c862-0aa6-4c6d-8e4d-e2fc4ca0ff50",
   "metadata": {
    "jp-MarkdownHeadingCollapsed": true
   },
   "source": [
    "## Pruebas"
   ]
  },
  {
   "cell_type": "code",
   "execution_count": 733,
   "id": "f56a7b4f-6c2a-460a-a2c9-594644ba7597",
   "metadata": {},
   "outputs": [
    {
     "data": {
      "text/plain": [
       "(-5.0, 5.0)"
      ]
     },
     "execution_count": 733,
     "metadata": {},
     "output_type": "execute_result"
    },
    {
     "data": {
      "image/png": "[encoded data removed]",
      "text/plain": [
       "<Figure size 640x480 with 1 Axes>"
      ]
     },
     "metadata": {},
     "output_type": "display_data"
    }
   ],
   "source": [
    "def f(x): return np.sin(x)\n",
    "xs = np.linspace(-2,2,5)\n",
    "P = polinomio_lagrange(xs,f(xs))\n",
    "import matplotlib.pyplot as plt\n",
    "x_vals = np.linspace(-6,6,1000)\n",
    "plt.plot(x_vals, f(x_vals))\n",
    "plt.plot(x_vals, P(x_vals))\n",
    "plt.plot(xs, f(xs), 'rx')\n",
    "plt.grid(True)\n",
    "plt.ylim(-5,5)\n",
    "plt.xlim(-5,5)"
   ]
  },
  {
   "cell_type": "code",
   "execution_count": 735,
   "id": "73e563ab-b12e-4869-9758-9312be747a38",
   "metadata": {},
   "outputs": [
    {
     "name": "stdout",
     "output_type": "stream",
     "text": [
      "[278.   65.   29.    0.4  -0.9]\n",
      "4.0 277.9999999999999\n",
      "-4.0 -242.0000000000001\n",
      "7.0 1430.0\n",
      "6.0 979.9999999999995\n",
      "2.0 40.0\n"
     ]
    }
   ],
   "source": [
    "x = np.array([4,-4,7,6,2.])\n",
    "y = np.array([278,-242,1430,980,40.])\n",
    "d = dif_divididas(x,y)\n",
    "print(d)\n",
    "p = polinomio_newton(d,x)\n",
    "for i in x:\n",
    "    print(i,p(i))"
   ]
  },
  {
   "cell_type": "markdown",
   "id": "f1d3b921-7f5c-40e5-aa5a-5d6ecfb8715f",
   "metadata": {},
   "source": [
    "# Unidad V - Integracion Numérica\n",
    "* Fórmulas de Newton-Cotes\n",
    "    * Simples\n",
    "    * Compuestas\n",
    "* Cuadratura de Gauss"
   ]
  },
  {
   "cell_type": "code",
   "execution_count": 72,
   "id": "5f8a5aa2-33be-4983-a6a3-a9630dc64aca",
   "metadata": {},
   "outputs": [],
   "source": [
    "def trapecio_s(a,b,fa,fb): return (fa+fb)*(b-a)/2\n",
    "def simpson_s(a,b,c,fa,fb,fc): return (fa+4*fc+fb)*(b-a)/6"
   ]
  },
  {
   "cell_type": "code",
   "execution_count": 352,
   "id": "ff58d01e-f8df-429b-b7f2-e7370a306ef0",
   "metadata": {},
   "outputs": [],
   "source": [
    "def trapecio(a,b,n,f=None,ys=None):\n",
    "    if f is None and ys is None: return np.NaN\n",
    "    h = (b-a)/n\n",
    "    if f is not None:\n",
    "        xs = np.linspace(a,b,n+1)\n",
    "        ys = f(xs)\n",
    "    suma = (h/2) *  ( ys[0] + 2 * ys[1:n].sum() + ys[-1] )\n",
    "    \n",
    "    return suma\n"
   ]
  },
  {
   "cell_type": "code",
   "execution_count": 354,
   "id": "2021daf0-f4a4-4ec2-b429-70d44a258f45",
   "metadata": {},
   "outputs": [],
   "source": [
    "def simpson(a,b,n,f=None,ys=None):\n",
    "    \"\"\"\n",
    "    Funcion que aproxima a f con la regla de simpson tomando a y b como extremos del intervalo (a<b) con n subintervalos.\n",
    "    Se puede optar por pasar f o puntos de medicion\n",
    "    \"\"\"\n",
    "    if f is None and ys is None: return np.NaN\n",
    "    h = (b-a)/n\n",
    "    if f is not None: \n",
    "        xs = np.linspace(a,b,n+1)\n",
    "        ys = f(xs)\n",
    "    suma = (h/3) * ( ys[0] +  4 * ys[1:n:2].sum()  +  2 * ys[2:n-1:2].sum()  + ys[-1] )\n",
    "    return suma\n",
    "\n"
   ]
  },
  {
   "cell_type": "code",
   "execution_count": 350,
   "id": "bca00fa3-39b3-4a3c-806e-49377609bfd4",
   "metadata": {},
   "outputs": [
    {
     "data": {
      "text/plain": [
       "21.749999999999993"
      ]
     },
     "execution_count": 350,
     "metadata": {},
     "output_type": "execute_result"
    }
   ],
   "source": [
    "def gaus_legendre(a,b,n,f):\n",
    "    nodos,coeficientes = np.polynomial.legendre.leggauss(n)\n",
    "    def g(x): return f(x*(b-a)/2 + (b+a)/2)\n",
    "    suma = (coeficientes * g(nodos)).sum()\n",
    "    return suma * (b-a)/2 \n",
    "\n",
    "f = lambda x: x**3 + x - 1\n",
    "gaus_legendre(0,3,2,f)"
   ]
  },
  {
   "cell_type": "code",
   "execution_count": 366,
   "id": "9ab6eb08-6313-44f8-9b86-6170241abcb1",
   "metadata": {},
   "outputs": [
    {
     "name": "stdout",
     "output_type": "stream",
     "text": [
      "21.75\n",
      "21.75\n",
      "21.752024999999996\n",
      "(21.75, 2.502185954603538e-13)\n"
     ]
    }
   ],
   "source": [
    "f = lambda x: x**3 + x - 1\n",
    "ys = f(np.linspace(0,3,3))\n",
    "print(simpson(0,3,2,None,ys))\n",
    "print(simpson(0,3,2,f))\n",
    "print(trapecio(0,3,100,f))\n",
    "from scipy.integrate import quad\n",
    "print(quad(f,0,3))"
   ]
  }
 ],
 "metadata": {
  "kernelspec": {
   "display_name": "Python [conda env:base] *",
   "language": "python",
   "name": "conda-base-py"
  },
  "language_info": {
   "codemirror_mode": {
    "name": "ipython",
    "version": 3
   },
   "file_extension": ".py",
   "mimetype": "text/x-python",
   "name": "python",
   "nbconvert_exporter": "python",
   "pygments_lexer": "ipython3",
   "version": "3.12.7"
  }
 },
 "nbformat": 4,
 "nbformat_minor": 5
}
