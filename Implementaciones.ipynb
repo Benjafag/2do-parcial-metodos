{
 "cells": [
  {
   "cell_type": "markdown",
   "id": "c73e31fa",
   "metadata": {},
   "source": [
    "# Unidad III - Sistemas de Ecuaciones Lineales"
   ]
  },
  {
   "cell_type": "code",
   "execution_count": null,
   "id": "56d4d878",
   "metadata": {},
   "outputs": [
    {
     "name": "stdout",
     "output_type": "stream",
     "text": [
      "[[0. 0. 1.]\n",
      " [0. 1. 0.]\n",
      " [1. 0. 0.]]\n",
      "[[1.         0.         0.        ]\n",
      " [0.5        1.         0.        ]\n",
      " [0.5        0.33333333 1.        ]]\n",
      "[[ 2.          4.          1.        ]\n",
      " [ 0.          3.         -0.5       ]\n",
      " [ 0.          0.          1.66666667]]\n",
      "[[1. 3. 2.]\n",
      " [1. 5. 0.]\n",
      " [2. 4. 1.]]\n",
      "[1 3 2]\n",
      "[2 4 1]\n"
     ]
    }
   ],
   "source": [
    "import numpy as np\n",
    "import scipy\n",
    "import scipy.linalg\n",
    "\n",
    "a = np.array([[1,3,2],[1,5,0],[2,4,1]])\n",
    "p,l,u = scipy.linalg.lu(a)\n",
    "\n",
    "# print(p,l,u)\n",
    "print(p)\n",
    "print(l)\n",
    "print(u)\n",
    "print(p@l@u)\n",
    "\n"
   ]
  },
  {
   "cell_type": "code",
   "execution_count": null,
   "id": "6617f63c",
   "metadata": {},
   "outputs": [
    {
     "data": {
      "text/plain": [
       "array([[ 2, -6, -3],\n",
       "       [-1,  3, -2],\n",
       "       [ 3,  1, -3]])"
      ]
     },
     "execution_count": 14,
     "metadata": {},
     "output_type": "execute_result"
    }
   ],
   "source": [
    "np.array([[2,-6,-3],[-1,3,-2],[3,1,-3]])"
   ]
  },
  {
   "cell_type": "markdown",
   "id": "58dbc989-7b24-4dac-a0fc-299a2157f1d3",
   "metadata": {},
   "source": [
    "# Unidad IV - Interpolacion"
   ]
  },
  {
   "cell_type": "markdown",
   "id": "f1d3b921-7f5c-40e5-aa5a-5d6ecfb8715f",
   "metadata": {},
   "source": [
    "# Unidad V - Integracion Numérica"
   ]
  }
 ],
 "metadata": {
  "kernelspec": {
   "display_name": "base",
   "language": "python",
   "name": "python3"
  },
  "language_info": {
   "codemirror_mode": {
    "name": "ipython",
    "version": 3
   },
   "file_extension": ".py",
   "mimetype": "text/x-python",
   "name": "python",
   "nbconvert_exporter": "python",
   "pygments_lexer": "ipython3",
   "version": "3.12.7"
  }
 },
 "nbformat": 4,
 "nbformat_minor": 5
}
