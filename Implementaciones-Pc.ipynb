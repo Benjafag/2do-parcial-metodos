{
 "cells": [
  {
   "cell_type": "markdown",
   "id": "c73e31fa",
   "metadata": {},
   "source": [
    "# Unidad III - Sistemas de Ecuaciones Lineales"
   ]
  },
  {
   "cell_type": "code",
   "execution_count": 1,
   "id": "56d4d878",
   "metadata": {},
   "outputs": [],
   "source": [
    "import numpy as np"
   ]
  },
  {
   "cell_type": "code",
   "execution_count": 3,
   "id": "6617f63c",
   "metadata": {},
   "outputs": [
    {
     "name": "stdout",
     "output_type": "stream",
     "text": [
      "[[ 5.  2.  3.]\n",
      " [ 2.  7. -4.]\n",
      " [ 3. -4.  9.]]\n"
     ]
    }
   ],
   "source": [
    "a = np.array([[5,2,3],[2,7,-4],[3,-4,9.]])\n",
    "b = np.array([8,-2,12.])\n",
    "\n",
    "c = np.array([[1,0,0],[1,2,0],[3,2,1.]])\n",
    "d = np.array([1,5,10.])\n"
   ]
  },
  {
   "cell_type": "code",
   "execution_count": 323,
   "id": "e14fe7dc-bfc6-4b9d-ba70-153081f6808f",
   "metadata": {},
   "outputs": [],
   "source": [
    "def sust_atras(a,b):\n",
    "    n = len(a) - 1\n",
    "    x = np.zeros_like(b)\n",
    "    x[n] = b[n]/a[n,n]\n",
    "    for i in range(n-1,-1,-1):\n",
    "        x[i] = (b[i] - (a[i,i+1:] * x[i+1:]).sum()) /a[i,i]\n",
    "    return x\n",
    "    \n",
    "def sust_adelante(a,b):\n",
    "    n = len(a)\n",
    "    x = np.zeros_like(b)\n",
    "    x[0] = b[0]/a[0,0]\n",
    "    for i in range(1,n):\n",
    "        x[i] = (b[i] - (a[i,:i]*x[:i]).sum()) / a[i,i]\n",
    "    return(x)\n"
   ]
  },
  {
   "cell_type": "code",
   "execution_count": 399,
   "id": "70dd7da0-861a-4cad-8d44-4f7533e876aa",
   "metadata": {},
   "outputs": [],
   "source": [
    "def el_gauss(a,b):\n",
    "    n = len(a)\n",
    "    for k in range(n):\n",
    "        for i in range(k+1,n):\n",
    "            m = a[i,k]/a[k,k]\n",
    "            a[i,k:] -= a[k,k:] * m\n",
    "            b[i] -= b[k]*m\n",
    "    return sust_atras(a,b)\n",
    "\n",
    "def lu(a):\n",
    "    n = len(a)\n",
    "    l = np.eye(n)\n",
    "    for k in range(n):\n",
    "        for i in range(k+1,n):\n",
    "            m = a[i,k]/a[k,k]\n",
    "            l[i,k] = m\n",
    "            a[i,k:] -= a[k,k:] * m\n",
    "    return l,a\n"
   ]
  },
  {
   "cell_type": "code",
   "execution_count": 773,
   "id": "56e70fee-d732-4d2c-b7ef-f2d104eb8afa",
   "metadata": {},
   "outputs": [],
   "source": [
    "def lu_ppe(a):\n",
    "    n = len(a)\n",
    "    l = np.eye(n)\n",
    "    p = np.arange(n)\n",
    "    s = np.abs(a).max(axis=1)\n",
    "    for k in range(n):\n",
    "        pivot = np.abs(a[k:,k]/s[k:]).argmax() + k # Eleccion del elem con mayor valor abs\n",
    "        # Hay cambio de elemento pivot\n",
    "        if (pivot != k):\n",
    "            p[k], p[pivot] = p[pivot], p[k] # Se cambia los indices del vector de permutaciones\n",
    "            a[[pivot,k],:] = a[[k,pivot],:] # Se intercambian la fila k y del nuevo pivot\n",
    "            l[[pivot,k],:k] = l[[k,pivot],:k] # Lo mismo en l\n",
    "        \n",
    "        # Eliminacion (igual que sin pivoteo)\n",
    "        for i in range(k+1,n):\n",
    "            m = a[i,k]/a[k,k]\n",
    "            l[i,k] = m\n",
    "            a[i,k:] -= a[k,k:] * m\n",
    "            \n",
    "    p = np.eye(n)[p] # Creo la matriz de permutacion a partir del vector p\n",
    "    return p,l,a"
   ]
  },
  {
   "cell_type": "code",
   "execution_count": 12,
   "id": "0300324f-2e90-4077-b34d-ab57fde9b182",
   "metadata": {},
   "outputs": [
    {
     "name": "stdout",
     "output_type": "stream",
     "text": [
      "[[ 2.23606798  0.          0.        ]\n",
      " [ 0.89442719  2.48997992  0.        ]\n",
      " [ 1.34164079 -2.08837026  1.68484708]]\n",
      "[[ 5.  2.  3.]\n",
      " [ 2.  7. -4.]\n",
      " [ 3. -4.  9.]]\n",
      "[[ 5.  2.  3.]\n",
      " [ 2.  7. -4.]\n",
      " [ 3. -4.  9.]]\n"
     ]
    }
   ],
   "source": [
    "def cholesky(a):\n",
    "    n = len(a)\n",
    "    l = np.zeros_like(a)\n",
    "    for i in range(n):\n",
    "        l[i,i] = np.sqrt(a[i,i] - (l[i, :i]**2).sum())\n",
    "        for j in range(i+1,n):\n",
    "            l[j,i] = (a[j,i] - (l[j, :i]*l[i, :i]).sum() ) / l[i,i]\n",
    "    return l\n",
    "a = np.array([[5,2,3],[2,7,-4],[3,-4,9.]])\n",
    "l = cholesky(a)\n",
    "print(l)\n",
    "print(l@l.T)\n",
    "print(a)"
   ]
  },
  {
   "cell_type": "code",
   "execution_count": 13,
   "id": "745c5fb8-f385-4275-909c-b020d6ee1f42",
   "metadata": {},
   "outputs": [],
   "source": [
    "def thomas(a,b):\n",
    "    n = len(a)\n",
    "    x = np.zeros_like(b)\n",
    "    for i in range(1,n):\n",
    "        a[i,i-1] = a[i,i-1]/a[i-1,i-1] #e\n",
    "        a[i,i] -= a[i,i-1]*a[i-1,i] #f\n",
    "    for i in range(1,n):\n",
    "        b[i] -= b[i] * a[i,i-1]\n",
    "    x[-1] = b[-1]/a[i,i]\n",
    "    for i in range(n-2,-1,-1):\n",
    "        x[i] = (b[i] - a[i-1,i]* b[i+1])/a[i,i]"
   ]
  },
  {
   "cell_type": "markdown",
   "id": "7dd0f718-e1f4-4223-8378-e3f73ba8ff6e",
   "metadata": {},
   "source": [
    "# Unidad IV - Interpolacion"
   ]
  },
  {
   "cell_type": "markdown",
   "id": "f1d3b921-7f5c-40e5-aa5a-5d6ecfb8715f",
   "metadata": {},
   "source": [
    "# Unidad V - Integracion Numérica"
   ]
  }
 ],
 "metadata": {
  "kernelspec": {
   "display_name": "Python 3 (ipykernel)",
   "language": "python",
   "name": "python3"
  },
  "language_info": {
   "codemirror_mode": {
    "name": "ipython",
    "version": 3
   },
   "file_extension": ".py",
   "mimetype": "text/x-python",
   "name": "python",
   "nbconvert_exporter": "python",
   "pygments_lexer": "ipython3",
   "version": "3.12.7"
  }
 },
 "nbformat": 4,
 "nbformat_minor": 5
}
